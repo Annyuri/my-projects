{
 "cells": [
  {
   "cell_type": "code",
   "execution_count": 1,
   "id": "1cc59465",
   "metadata": {},
   "outputs": [],
   "source": [
    "import numpy as np"
   ]
  },
  {
   "cell_type": "code",
   "execution_count": 2,
   "id": "c9d0c830",
   "metadata": {},
   "outputs": [],
   "source": [
    "# 1 задание\n",
    "\n",
    "v = np.array([9,8,7,6,5,4,3,2,1,0])"
   ]
  },
  {
   "cell_type": "code",
   "execution_count": 19,
   "id": "93f94b2d",
   "metadata": {},
   "outputs": [
    {
     "data": {
      "text/plain": [
       "array([9, 8, 7, 6, 5, 4, 3, 2, 1, 0])"
      ]
     },
     "execution_count": 19,
     "metadata": {},
     "output_type": "execute_result"
    }
   ],
   "source": [
    "v"
   ]
  },
  {
   "cell_type": "code",
   "execution_count": 12,
   "id": "f566ed4f",
   "metadata": {},
   "outputs": [],
   "source": [
    "# 2 задание\n",
    "\n",
    "# 1-й пример\n",
    "\n",
    "M = np.array([[9,7,4],[4,10,6],[10,8,-12]])"
   ]
  },
  {
   "cell_type": "code",
   "execution_count": 13,
   "id": "9f4fb5d7",
   "metadata": {},
   "outputs": [
    {
     "data": {
      "text/plain": [
       "array([[  9,   7,   4],\n",
       "       [  4,  10,   6],\n",
       "       [ 10,   8, -12]])"
      ]
     },
     "execution_count": 13,
     "metadata": {},
     "output_type": "execute_result"
    }
   ],
   "source": [
    "M"
   ]
  },
  {
   "cell_type": "code",
   "execution_count": 14,
   "id": "babdeda9",
   "metadata": {},
   "outputs": [
    {
     "name": "stdout",
     "output_type": "stream",
     "text": [
      "Diagonal (sum):  7\n",
      "Diagonal (elements):  [  9  10 -12]\n"
     ]
    }
   ],
   "source": [
    "print('Diagonal (sum): ', np.trace(M))\n",
    "print('Diagonal (elements): ', np.diagonal(M))"
   ]
  },
  {
   "cell_type": "code",
   "execution_count": 15,
   "id": "bfc6cc3c",
   "metadata": {},
   "outputs": [],
   "source": [
    "# 2-й пример\n",
    "\n",
    "M = np.diag([4,7,-2])"
   ]
  },
  {
   "cell_type": "code",
   "execution_count": 16,
   "id": "e7d6af9f",
   "metadata": {},
   "outputs": [
    {
     "data": {
      "text/plain": [
       "array([[ 4,  0,  0],\n",
       "       [ 0,  7,  0],\n",
       "       [ 0,  0, -2]])"
      ]
     },
     "execution_count": 16,
     "metadata": {},
     "output_type": "execute_result"
    }
   ],
   "source": [
    "M"
   ]
  },
  {
   "cell_type": "code",
   "execution_count": 17,
   "id": "6b50999e",
   "metadata": {},
   "outputs": [
    {
     "name": "stdout",
     "output_type": "stream",
     "text": [
      "Diagonal (sum):  9\n",
      "Diagonal (elements):  [ 4  7 -2]\n"
     ]
    }
   ],
   "source": [
    "print('Diagonal (sum): ', np.trace(M))\n",
    "print('Diagonal (elements): ', np.diagonal(M))"
   ]
  },
  {
   "cell_type": "code",
   "execution_count": 34,
   "id": "6c4ea171",
   "metadata": {},
   "outputs": [],
   "source": [
    "# 3 задание\n",
    "\n",
    "from numpy import linalg\n",
    "\n",
    "M = np.array([[4,2,1], [1,3,0], [0,5,4]])\n",
    "v = np.array([4,12,-3])"
   ]
  },
  {
   "cell_type": "code",
   "execution_count": 35,
   "id": "72e236a0",
   "metadata": {},
   "outputs": [
    {
     "data": {
      "text/plain": [
       "array([[4, 2, 1],\n",
       "       [1, 3, 0],\n",
       "       [0, 5, 4]])"
      ]
     },
     "execution_count": 35,
     "metadata": {},
     "output_type": "execute_result"
    }
   ],
   "source": [
    "M"
   ]
  },
  {
   "cell_type": "code",
   "execution_count": 36,
   "id": "7fb16107",
   "metadata": {},
   "outputs": [
    {
     "data": {
      "text/plain": [
       "array([ 4, 12, -3])"
      ]
     },
     "execution_count": 36,
     "metadata": {},
     "output_type": "execute_result"
    }
   ],
   "source": [
    "v"
   ]
  },
  {
   "cell_type": "code",
   "execution_count": 37,
   "id": "84cc7f6f",
   "metadata": {},
   "outputs": [
    {
     "data": {
      "text/plain": [
       "array([ 0.46666667,  3.84444444, -5.55555556])"
      ]
     },
     "execution_count": 37,
     "metadata": {},
     "output_type": "execute_result"
    }
   ],
   "source": [
    "np.linalg.solve(M, v)"
   ]
  },
  {
   "cell_type": "code",
   "execution_count": 38,
   "id": "0f243b39",
   "metadata": {},
   "outputs": [],
   "source": [
    "# 4 задание\n",
    "\n",
    "# 1-й пример\n",
    "\n",
    "a = np.random.rand(3)\n",
    "b = np.random.rand(3)"
   ]
  },
  {
   "cell_type": "code",
   "execution_count": 43,
   "id": "3ad39891",
   "metadata": {},
   "outputs": [
    {
     "data": {
      "text/plain": [
       "array([0.87079461, 0.06504077, 0.86111846])"
      ]
     },
     "execution_count": 43,
     "metadata": {},
     "output_type": "execute_result"
    }
   ],
   "source": [
    "a"
   ]
  },
  {
   "cell_type": "code",
   "execution_count": 42,
   "id": "e488e09a",
   "metadata": {},
   "outputs": [
    {
     "data": {
      "text/plain": [
       "array([0.97029358, 0.07037256, 0.40832706])"
      ]
     },
     "execution_count": 42,
     "metadata": {},
     "output_type": "execute_result"
    }
   ],
   "source": [
    "b"
   ]
  },
  {
   "cell_type": "code",
   "execution_count": 44,
   "id": "b11a4d89",
   "metadata": {},
   "outputs": [
    {
     "data": {
      "text/plain": [
       "1.2011214735486846"
      ]
     },
     "execution_count": 44,
     "metadata": {},
     "output_type": "execute_result"
    }
   ],
   "source": [
    "np.dot(a,b)"
   ]
  },
  {
   "cell_type": "code",
   "execution_count": 45,
   "id": "8745b039",
   "metadata": {},
   "outputs": [],
   "source": [
    "# 2-й пример\n",
    "\n",
    "a = np.random.rand(3)\n",
    "b = np.random.rand(3)"
   ]
  },
  {
   "cell_type": "code",
   "execution_count": 46,
   "id": "14f1b0bf",
   "metadata": {},
   "outputs": [
    {
     "data": {
      "text/plain": [
       "array([0.5260903 , 0.54087886, 0.52996778])"
      ]
     },
     "execution_count": 46,
     "metadata": {},
     "output_type": "execute_result"
    }
   ],
   "source": [
    "a"
   ]
  },
  {
   "cell_type": "code",
   "execution_count": 47,
   "id": "aa4c34a7",
   "metadata": {},
   "outputs": [
    {
     "data": {
      "text/plain": [
       "array([0.89536945, 0.33212973, 0.99995741])"
      ]
     },
     "execution_count": 47,
     "metadata": {},
     "output_type": "execute_result"
    }
   ],
   "source": [
    "b"
   ]
  },
  {
   "cell_type": "code",
   "execution_count": 48,
   "id": "b68aa734",
   "metadata": {},
   "outputs": [
    {
     "data": {
      "text/plain": [
       "1.1806323361811217"
      ]
     },
     "execution_count": 48,
     "metadata": {},
     "output_type": "execute_result"
    }
   ],
   "source": [
    "np.dot(a,b)"
   ]
  }
 ],
 "metadata": {
  "kernelspec": {
   "display_name": "Python 3 (ipykernel)",
   "language": "python",
   "name": "python3"
  },
  "language_info": {
   "codemirror_mode": {
    "name": "ipython",
    "version": 3
   },
   "file_extension": ".py",
   "mimetype": "text/x-python",
   "name": "python",
   "nbconvert_exporter": "python",
   "pygments_lexer": "ipython3",
   "version": "3.9.12"
  }
 },
 "nbformat": 4,
 "nbformat_minor": 5
}

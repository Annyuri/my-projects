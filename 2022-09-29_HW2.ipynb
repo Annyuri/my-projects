{
 "cells": [
  {
   "cell_type": "code",
   "execution_count": 26,
   "id": "1f15f9c7",
   "metadata": {},
   "outputs": [
    {
     "name": "stdout",
     "output_type": "stream",
     "text": [
      "<__main__.Person object at 0x000001E5BF92CA30>\n"
     ]
    }
   ],
   "source": [
    "class Person():\n",
    "    pass\n",
    "\n",
    "my_person = Person()\n",
    "print(my_person)"
   ]
  },
  {
   "cell_type": "code",
   "execution_count": 77,
   "id": "e46d4c80",
   "metadata": {
    "scrolled": true
   },
   "outputs": [
    {
     "name": "stdout",
     "output_type": "stream",
     "text": [
      "Frodo says: Hello, my name is Frodo Baggins\n",
      "Frodo\n",
      "Baggins\n",
      "50\n"
     ]
    }
   ],
   "source": [
    "class Person():\n",
    "    \n",
    "    def __init__(self, name, surname, age):\n",
    "        self.name = name\n",
    "        self.surname = surname\n",
    "        self.age = age\n",
    "        \n",
    "    def introduce_yourself(self):\n",
    "        print(f'{self.name} says: Hello, my name is Frodo Baggins')\n",
    "    \n",
    "my_person = Person('Frodo', 'Baggins', 50)\n",
    "\n",
    "my_person.introduce_yourself()\n",
    "\n",
    "print(my_person.name)\n",
    "print(my_person.surname)\n",
    "print(my_person.age)"
   ]
  },
  {
   "cell_type": "code",
   "execution_count": 82,
   "id": "dd30360f",
   "metadata": {},
   "outputs": [
    {
     "name": "stdout",
     "output_type": "stream",
     "text": [
      "Frodo says: Hello, my name is Frodo Baggins\n",
      "Frodo\n",
      "Baggins\n",
      "50\n",
      "Bearer of the One Ring\n",
      "Sting\n"
     ]
    }
   ],
   "source": [
    "class Person():\n",
    "    \n",
    "    def __init__(self, name, surname, age):\n",
    "        self.name = name\n",
    "        self.surname = surname\n",
    "        self.age = age\n",
    "        \n",
    "    def introduce_yourself(self):\n",
    "        print(f'{self.name} says: Hello, my name is Frodo Baggins')\n",
    "        \n",
    "class Hobbit(Person):\n",
    "    \n",
    "    def __init__(self, name, surname, age, title, weapon):\n",
    "        super().__init__(name, surname, age)\n",
    "        self.title = title\n",
    "        self.weapon = weapon\n",
    "    \n",
    "my_person = Person('Frodo', 'Baggins', 50)\n",
    "\n",
    "hobbit = Hobbit('Frodo', 'Baggins', 50, 'Bearer of the One Ring', 'Sting')\n",
    "\n",
    "my_person.introduce_yourself()\n",
    "\n",
    "print(hobbit.name)\n",
    "print(my_person.surname)\n",
    "print(my_person.age)\n",
    "print(hobbit.title)\n",
    "print(hobbit.weapon)"
   ]
  }
 ],
 "metadata": {
  "kernelspec": {
   "display_name": "Python 3 (ipykernel)",
   "language": "python",
   "name": "python3"
  },
  "language_info": {
   "codemirror_mode": {
    "name": "ipython",
    "version": 3
   },
   "file_extension": ".py",
   "mimetype": "text/x-python",
   "name": "python",
   "nbconvert_exporter": "python",
   "pygments_lexer": "ipython3",
   "version": "3.9.12"
  }
 },
 "nbformat": 4,
 "nbformat_minor": 5
}

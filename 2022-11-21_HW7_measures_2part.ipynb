{
 "cells": [
  {
   "cell_type": "code",
   "execution_count": 1,
   "id": "d1f4545b",
   "metadata": {},
   "outputs": [],
   "source": [
    "import pandas as pd\n",
    "import numpy as np\n",
    "import matplotlib.pyplot as plt\n",
    "import seaborn as sns\n",
    "plt.style.use('fivethirtyeight')\n",
    "import warnings\n",
    "warnings.filterwarnings('ignore')\n",
    "sns.set(rc={'figure.figsize':(6,3)}, style='whitegrid')\n",
    "%matplotlib inline\n",
    "import scipy\n",
    "from statsmodels.stats.weightstats import *\n",
    "from sklearn.model_selection import train_test_split\n",
    "from sklearn import metrics\n",
    "from sklearn.model_selection import cross_val_score"
   ]
  },
  {
   "cell_type": "code",
   "execution_count": 2,
   "id": "d4eb4b02",
   "metadata": {},
   "outputs": [],
   "source": [
    "import scipy\n",
    "import statsmodels"
   ]
  },
  {
   "cell_type": "code",
   "execution_count": 3,
   "id": "f33ffe57",
   "metadata": {},
   "outputs": [],
   "source": [
    "data = pd.read_csv('measures.txt')"
   ]
  },
  {
   "cell_type": "code",
   "execution_count": 4,
   "id": "99a9922e",
   "metadata": {},
   "outputs": [
    {
     "data": {
      "text/html": [
       "<div>\n",
       "<style scoped>\n",
       "    .dataframe tbody tr th:only-of-type {\n",
       "        vertical-align: middle;\n",
       "    }\n",
       "\n",
       "    .dataframe tbody tr th {\n",
       "        vertical-align: top;\n",
       "    }\n",
       "\n",
       "    .dataframe thead th {\n",
       "        text-align: right;\n",
       "    }\n",
       "</style>\n",
       "<table border=\"1\" class=\"dataframe\">\n",
       "  <thead>\n",
       "    <tr style=\"text-align: right;\">\n",
       "      <th></th>\n",
       "      <th>u_q</th>\n",
       "      <th>coolant</th>\n",
       "      <th>stator_winding</th>\n",
       "      <th>u_d</th>\n",
       "      <th>stator_tooth</th>\n",
       "      <th>motor_speed</th>\n",
       "      <th>i_d</th>\n",
       "      <th>i_q</th>\n",
       "      <th>pm</th>\n",
       "      <th>stator_yoke</th>\n",
       "      <th>ambient</th>\n",
       "      <th>torque</th>\n",
       "      <th>profile_id</th>\n",
       "    </tr>\n",
       "  </thead>\n",
       "  <tbody>\n",
       "    <tr>\n",
       "      <th>0</th>\n",
       "      <td>-0.450682</td>\n",
       "      <td>18.805172</td>\n",
       "      <td>19.086670</td>\n",
       "      <td>-0.350055</td>\n",
       "      <td>18.293219</td>\n",
       "      <td>0.002866</td>\n",
       "      <td>0.004419</td>\n",
       "      <td>0.000328</td>\n",
       "      <td>24.554214</td>\n",
       "      <td>18.316547</td>\n",
       "      <td>19.850691</td>\n",
       "      <td>0.187101</td>\n",
       "      <td>17</td>\n",
       "    </tr>\n",
       "    <tr>\n",
       "      <th>1</th>\n",
       "      <td>-0.325737</td>\n",
       "      <td>18.818571</td>\n",
       "      <td>19.092390</td>\n",
       "      <td>-0.305803</td>\n",
       "      <td>18.294807</td>\n",
       "      <td>0.000257</td>\n",
       "      <td>0.000606</td>\n",
       "      <td>-0.000785</td>\n",
       "      <td>24.538078</td>\n",
       "      <td>18.314955</td>\n",
       "      <td>19.850672</td>\n",
       "      <td>0.245417</td>\n",
       "      <td>17</td>\n",
       "    </tr>\n",
       "    <tr>\n",
       "      <th>2</th>\n",
       "      <td>-0.440864</td>\n",
       "      <td>18.828770</td>\n",
       "      <td>19.089380</td>\n",
       "      <td>-0.372503</td>\n",
       "      <td>18.294094</td>\n",
       "      <td>0.002355</td>\n",
       "      <td>0.001290</td>\n",
       "      <td>0.000386</td>\n",
       "      <td>24.544693</td>\n",
       "      <td>18.326307</td>\n",
       "      <td>19.850657</td>\n",
       "      <td>0.176615</td>\n",
       "      <td>17</td>\n",
       "    </tr>\n",
       "    <tr>\n",
       "      <th>3</th>\n",
       "      <td>-0.327026</td>\n",
       "      <td>18.835567</td>\n",
       "      <td>19.083031</td>\n",
       "      <td>-0.316199</td>\n",
       "      <td>18.292542</td>\n",
       "      <td>0.006105</td>\n",
       "      <td>0.000026</td>\n",
       "      <td>0.002046</td>\n",
       "      <td>24.554018</td>\n",
       "      <td>18.330833</td>\n",
       "      <td>19.850647</td>\n",
       "      <td>0.238303</td>\n",
       "      <td>17</td>\n",
       "    </tr>\n",
       "    <tr>\n",
       "      <th>4</th>\n",
       "      <td>-0.471150</td>\n",
       "      <td>18.857033</td>\n",
       "      <td>19.082525</td>\n",
       "      <td>-0.332272</td>\n",
       "      <td>18.291428</td>\n",
       "      <td>0.003133</td>\n",
       "      <td>-0.064317</td>\n",
       "      <td>0.037184</td>\n",
       "      <td>24.565397</td>\n",
       "      <td>18.326662</td>\n",
       "      <td>19.850639</td>\n",
       "      <td>0.208197</td>\n",
       "      <td>17</td>\n",
       "    </tr>\n",
       "  </tbody>\n",
       "</table>\n",
       "</div>"
      ],
      "text/plain": [
       "        u_q    coolant  stator_winding       u_d  stator_tooth  motor_speed  \\\n",
       "0 -0.450682  18.805172       19.086670 -0.350055     18.293219     0.002866   \n",
       "1 -0.325737  18.818571       19.092390 -0.305803     18.294807     0.000257   \n",
       "2 -0.440864  18.828770       19.089380 -0.372503     18.294094     0.002355   \n",
       "3 -0.327026  18.835567       19.083031 -0.316199     18.292542     0.006105   \n",
       "4 -0.471150  18.857033       19.082525 -0.332272     18.291428     0.003133   \n",
       "\n",
       "        i_d       i_q         pm  stator_yoke    ambient    torque  profile_id  \n",
       "0  0.004419  0.000328  24.554214    18.316547  19.850691  0.187101          17  \n",
       "1  0.000606 -0.000785  24.538078    18.314955  19.850672  0.245417          17  \n",
       "2  0.001290  0.000386  24.544693    18.326307  19.850657  0.176615          17  \n",
       "3  0.000026  0.002046  24.554018    18.330833  19.850647  0.238303          17  \n",
       "4 -0.064317  0.037184  24.565397    18.326662  19.850639  0.208197          17  "
      ]
     },
     "execution_count": 4,
     "metadata": {},
     "output_type": "execute_result"
    }
   ],
   "source": [
    "data.head()"
   ]
  },
  {
   "cell_type": "markdown",
   "id": "83298786",
   "metadata": {},
   "source": [
    "### 4. Сгенерируйте новые признаки:\n",
    "\n",
    "Нормализация вектора тока (корень квадратный из суммы квадратов токов);\n",
    "нормализация вектора напряжения (корень квадратный из суммы квадратов напряжения);\n",
    "полная мощность (произведение нормализованного вектора тока и нормализованного вектора напряжения);\n",
    "эффективная мощность (сумма произведений i_d c u_d и i_q с u_q)"
   ]
  },
  {
   "cell_type": "code",
   "execution_count": 5,
   "id": "aaf1f8f8",
   "metadata": {},
   "outputs": [],
   "source": [
    "data['n_i'] = np.sqrt(data['i_d']**2+data['i_q']**2)\n",
    "data['n_u'] = np.sqrt(data['u_d']**2+data['u_q']**2)\n",
    "data['t_p'] = data['n_i']*data['n_u']\n",
    "data['eff_p'] = (data['i_d']*data['u_d'])+(data['i_q']*data['u_q'])"
   ]
  },
  {
   "cell_type": "code",
   "execution_count": 6,
   "id": "379f0e94",
   "metadata": {},
   "outputs": [
    {
     "data": {
      "text/html": [
       "<div>\n",
       "<style scoped>\n",
       "    .dataframe tbody tr th:only-of-type {\n",
       "        vertical-align: middle;\n",
       "    }\n",
       "\n",
       "    .dataframe tbody tr th {\n",
       "        vertical-align: top;\n",
       "    }\n",
       "\n",
       "    .dataframe thead th {\n",
       "        text-align: right;\n",
       "    }\n",
       "</style>\n",
       "<table border=\"1\" class=\"dataframe\">\n",
       "  <thead>\n",
       "    <tr style=\"text-align: right;\">\n",
       "      <th></th>\n",
       "      <th>u_q</th>\n",
       "      <th>coolant</th>\n",
       "      <th>stator_winding</th>\n",
       "      <th>u_d</th>\n",
       "      <th>stator_tooth</th>\n",
       "      <th>motor_speed</th>\n",
       "      <th>i_d</th>\n",
       "      <th>i_q</th>\n",
       "      <th>pm</th>\n",
       "      <th>stator_yoke</th>\n",
       "      <th>ambient</th>\n",
       "      <th>torque</th>\n",
       "      <th>profile_id</th>\n",
       "      <th>n_i</th>\n",
       "      <th>n_u</th>\n",
       "      <th>t_p</th>\n",
       "      <th>eff_p</th>\n",
       "    </tr>\n",
       "  </thead>\n",
       "  <tbody>\n",
       "    <tr>\n",
       "      <th>0</th>\n",
       "      <td>-0.450682</td>\n",
       "      <td>18.805172</td>\n",
       "      <td>19.086670</td>\n",
       "      <td>-0.350055</td>\n",
       "      <td>18.293219</td>\n",
       "      <td>0.002866</td>\n",
       "      <td>0.004419</td>\n",
       "      <td>0.000328</td>\n",
       "      <td>24.554214</td>\n",
       "      <td>18.316547</td>\n",
       "      <td>19.850691</td>\n",
       "      <td>0.187101</td>\n",
       "      <td>17</td>\n",
       "      <td>0.004431</td>\n",
       "      <td>0.570659</td>\n",
       "      <td>0.002529</td>\n",
       "      <td>-0.001695</td>\n",
       "    </tr>\n",
       "    <tr>\n",
       "      <th>1</th>\n",
       "      <td>-0.325737</td>\n",
       "      <td>18.818571</td>\n",
       "      <td>19.092390</td>\n",
       "      <td>-0.305803</td>\n",
       "      <td>18.294807</td>\n",
       "      <td>0.000257</td>\n",
       "      <td>0.000606</td>\n",
       "      <td>-0.000785</td>\n",
       "      <td>24.538078</td>\n",
       "      <td>18.314955</td>\n",
       "      <td>19.850672</td>\n",
       "      <td>0.245417</td>\n",
       "      <td>17</td>\n",
       "      <td>0.000992</td>\n",
       "      <td>0.446789</td>\n",
       "      <td>0.000443</td>\n",
       "      <td>0.000071</td>\n",
       "    </tr>\n",
       "    <tr>\n",
       "      <th>2</th>\n",
       "      <td>-0.440864</td>\n",
       "      <td>18.828770</td>\n",
       "      <td>19.089380</td>\n",
       "      <td>-0.372503</td>\n",
       "      <td>18.294094</td>\n",
       "      <td>0.002355</td>\n",
       "      <td>0.001290</td>\n",
       "      <td>0.000386</td>\n",
       "      <td>24.544693</td>\n",
       "      <td>18.326307</td>\n",
       "      <td>19.850657</td>\n",
       "      <td>0.176615</td>\n",
       "      <td>17</td>\n",
       "      <td>0.001346</td>\n",
       "      <td>0.577165</td>\n",
       "      <td>0.000777</td>\n",
       "      <td>-0.000651</td>\n",
       "    </tr>\n",
       "    <tr>\n",
       "      <th>3</th>\n",
       "      <td>-0.327026</td>\n",
       "      <td>18.835567</td>\n",
       "      <td>19.083031</td>\n",
       "      <td>-0.316199</td>\n",
       "      <td>18.292542</td>\n",
       "      <td>0.006105</td>\n",
       "      <td>0.000026</td>\n",
       "      <td>0.002046</td>\n",
       "      <td>24.554018</td>\n",
       "      <td>18.330833</td>\n",
       "      <td>19.850647</td>\n",
       "      <td>0.238303</td>\n",
       "      <td>17</td>\n",
       "      <td>0.002046</td>\n",
       "      <td>0.454893</td>\n",
       "      <td>0.000931</td>\n",
       "      <td>-0.000677</td>\n",
       "    </tr>\n",
       "    <tr>\n",
       "      <th>4</th>\n",
       "      <td>-0.471150</td>\n",
       "      <td>18.857033</td>\n",
       "      <td>19.082525</td>\n",
       "      <td>-0.332272</td>\n",
       "      <td>18.291428</td>\n",
       "      <td>0.003133</td>\n",
       "      <td>-0.064317</td>\n",
       "      <td>0.037184</td>\n",
       "      <td>24.565397</td>\n",
       "      <td>18.326662</td>\n",
       "      <td>19.850639</td>\n",
       "      <td>0.208197</td>\n",
       "      <td>17</td>\n",
       "      <td>0.074292</td>\n",
       "      <td>0.576530</td>\n",
       "      <td>0.042832</td>\n",
       "      <td>0.003852</td>\n",
       "    </tr>\n",
       "  </tbody>\n",
       "</table>\n",
       "</div>"
      ],
      "text/plain": [
       "        u_q    coolant  stator_winding       u_d  stator_tooth  motor_speed  \\\n",
       "0 -0.450682  18.805172       19.086670 -0.350055     18.293219     0.002866   \n",
       "1 -0.325737  18.818571       19.092390 -0.305803     18.294807     0.000257   \n",
       "2 -0.440864  18.828770       19.089380 -0.372503     18.294094     0.002355   \n",
       "3 -0.327026  18.835567       19.083031 -0.316199     18.292542     0.006105   \n",
       "4 -0.471150  18.857033       19.082525 -0.332272     18.291428     0.003133   \n",
       "\n",
       "        i_d       i_q         pm  stator_yoke    ambient    torque  \\\n",
       "0  0.004419  0.000328  24.554214    18.316547  19.850691  0.187101   \n",
       "1  0.000606 -0.000785  24.538078    18.314955  19.850672  0.245417   \n",
       "2  0.001290  0.000386  24.544693    18.326307  19.850657  0.176615   \n",
       "3  0.000026  0.002046  24.554018    18.330833  19.850647  0.238303   \n",
       "4 -0.064317  0.037184  24.565397    18.326662  19.850639  0.208197   \n",
       "\n",
       "   profile_id       n_i       n_u       t_p     eff_p  \n",
       "0          17  0.004431  0.570659  0.002529 -0.001695  \n",
       "1          17  0.000992  0.446789  0.000443  0.000071  \n",
       "2          17  0.001346  0.577165  0.000777 -0.000651  \n",
       "3          17  0.002046  0.454893  0.000931 -0.000677  \n",
       "4          17  0.074292  0.576530  0.042832  0.003852  "
      ]
     },
     "execution_count": 6,
     "metadata": {},
     "output_type": "execute_result"
    }
   ],
   "source": [
    "data.head()"
   ]
  },
  {
   "cell_type": "markdown",
   "id": "668dcf73",
   "metadata": {},
   "source": [
    "### 5. Заново постройте обе модели, сравните результаты с предыдущими. Провизуализируйте решения, напишите выводы."
   ]
  },
  {
   "cell_type": "markdown",
   "id": "8e50ae59",
   "metadata": {},
   "source": [
    "#### Линейная регрессия"
   ]
  },
  {
   "cell_type": "code",
   "execution_count": 7,
   "id": "5c19a193",
   "metadata": {},
   "outputs": [],
   "source": [
    "R = data.drop(columns=['motor_speed'])\n",
    "h = data['motor_speed']"
   ]
  },
  {
   "cell_type": "code",
   "execution_count": 8,
   "id": "53ef8111",
   "metadata": {},
   "outputs": [
    {
     "data": {
      "text/html": [
       "<div>\n",
       "<style scoped>\n",
       "    .dataframe tbody tr th:only-of-type {\n",
       "        vertical-align: middle;\n",
       "    }\n",
       "\n",
       "    .dataframe tbody tr th {\n",
       "        vertical-align: top;\n",
       "    }\n",
       "\n",
       "    .dataframe thead th {\n",
       "        text-align: right;\n",
       "    }\n",
       "</style>\n",
       "<table border=\"1\" class=\"dataframe\">\n",
       "  <thead>\n",
       "    <tr style=\"text-align: right;\">\n",
       "      <th></th>\n",
       "      <th>u_q</th>\n",
       "      <th>coolant</th>\n",
       "      <th>stator_winding</th>\n",
       "      <th>u_d</th>\n",
       "      <th>stator_tooth</th>\n",
       "      <th>i_d</th>\n",
       "      <th>i_q</th>\n",
       "      <th>pm</th>\n",
       "      <th>stator_yoke</th>\n",
       "      <th>ambient</th>\n",
       "      <th>torque</th>\n",
       "      <th>profile_id</th>\n",
       "      <th>n_i</th>\n",
       "      <th>n_u</th>\n",
       "      <th>t_p</th>\n",
       "      <th>eff_p</th>\n",
       "    </tr>\n",
       "  </thead>\n",
       "  <tbody>\n",
       "    <tr>\n",
       "      <th>0</th>\n",
       "      <td>-0.450682</td>\n",
       "      <td>18.805172</td>\n",
       "      <td>19.086670</td>\n",
       "      <td>-0.350055</td>\n",
       "      <td>18.293219</td>\n",
       "      <td>0.004419</td>\n",
       "      <td>0.000328</td>\n",
       "      <td>24.554214</td>\n",
       "      <td>18.316547</td>\n",
       "      <td>19.850691</td>\n",
       "      <td>0.187101</td>\n",
       "      <td>17</td>\n",
       "      <td>0.004431</td>\n",
       "      <td>0.570659</td>\n",
       "      <td>0.002529</td>\n",
       "      <td>-0.001695</td>\n",
       "    </tr>\n",
       "    <tr>\n",
       "      <th>1</th>\n",
       "      <td>-0.325737</td>\n",
       "      <td>18.818571</td>\n",
       "      <td>19.092390</td>\n",
       "      <td>-0.305803</td>\n",
       "      <td>18.294807</td>\n",
       "      <td>0.000606</td>\n",
       "      <td>-0.000785</td>\n",
       "      <td>24.538078</td>\n",
       "      <td>18.314955</td>\n",
       "      <td>19.850672</td>\n",
       "      <td>0.245417</td>\n",
       "      <td>17</td>\n",
       "      <td>0.000992</td>\n",
       "      <td>0.446789</td>\n",
       "      <td>0.000443</td>\n",
       "      <td>0.000071</td>\n",
       "    </tr>\n",
       "    <tr>\n",
       "      <th>2</th>\n",
       "      <td>-0.440864</td>\n",
       "      <td>18.828770</td>\n",
       "      <td>19.089380</td>\n",
       "      <td>-0.372503</td>\n",
       "      <td>18.294094</td>\n",
       "      <td>0.001290</td>\n",
       "      <td>0.000386</td>\n",
       "      <td>24.544693</td>\n",
       "      <td>18.326307</td>\n",
       "      <td>19.850657</td>\n",
       "      <td>0.176615</td>\n",
       "      <td>17</td>\n",
       "      <td>0.001346</td>\n",
       "      <td>0.577165</td>\n",
       "      <td>0.000777</td>\n",
       "      <td>-0.000651</td>\n",
       "    </tr>\n",
       "    <tr>\n",
       "      <th>3</th>\n",
       "      <td>-0.327026</td>\n",
       "      <td>18.835567</td>\n",
       "      <td>19.083031</td>\n",
       "      <td>-0.316199</td>\n",
       "      <td>18.292542</td>\n",
       "      <td>0.000026</td>\n",
       "      <td>0.002046</td>\n",
       "      <td>24.554018</td>\n",
       "      <td>18.330833</td>\n",
       "      <td>19.850647</td>\n",
       "      <td>0.238303</td>\n",
       "      <td>17</td>\n",
       "      <td>0.002046</td>\n",
       "      <td>0.454893</td>\n",
       "      <td>0.000931</td>\n",
       "      <td>-0.000677</td>\n",
       "    </tr>\n",
       "    <tr>\n",
       "      <th>4</th>\n",
       "      <td>-0.471150</td>\n",
       "      <td>18.857033</td>\n",
       "      <td>19.082525</td>\n",
       "      <td>-0.332272</td>\n",
       "      <td>18.291428</td>\n",
       "      <td>-0.064317</td>\n",
       "      <td>0.037184</td>\n",
       "      <td>24.565397</td>\n",
       "      <td>18.326662</td>\n",
       "      <td>19.850639</td>\n",
       "      <td>0.208197</td>\n",
       "      <td>17</td>\n",
       "      <td>0.074292</td>\n",
       "      <td>0.576530</td>\n",
       "      <td>0.042832</td>\n",
       "      <td>0.003852</td>\n",
       "    </tr>\n",
       "  </tbody>\n",
       "</table>\n",
       "</div>"
      ],
      "text/plain": [
       "        u_q    coolant  stator_winding       u_d  stator_tooth       i_d  \\\n",
       "0 -0.450682  18.805172       19.086670 -0.350055     18.293219  0.004419   \n",
       "1 -0.325737  18.818571       19.092390 -0.305803     18.294807  0.000606   \n",
       "2 -0.440864  18.828770       19.089380 -0.372503     18.294094  0.001290   \n",
       "3 -0.327026  18.835567       19.083031 -0.316199     18.292542  0.000026   \n",
       "4 -0.471150  18.857033       19.082525 -0.332272     18.291428 -0.064317   \n",
       "\n",
       "        i_q         pm  stator_yoke    ambient    torque  profile_id  \\\n",
       "0  0.000328  24.554214    18.316547  19.850691  0.187101          17   \n",
       "1 -0.000785  24.538078    18.314955  19.850672  0.245417          17   \n",
       "2  0.000386  24.544693    18.326307  19.850657  0.176615          17   \n",
       "3  0.002046  24.554018    18.330833  19.850647  0.238303          17   \n",
       "4  0.037184  24.565397    18.326662  19.850639  0.208197          17   \n",
       "\n",
       "        n_i       n_u       t_p     eff_p  \n",
       "0  0.004431  0.570659  0.002529 -0.001695  \n",
       "1  0.000992  0.446789  0.000443  0.000071  \n",
       "2  0.001346  0.577165  0.000777 -0.000651  \n",
       "3  0.002046  0.454893  0.000931 -0.000677  \n",
       "4  0.074292  0.576530  0.042832  0.003852  "
      ]
     },
     "execution_count": 8,
     "metadata": {},
     "output_type": "execute_result"
    }
   ],
   "source": [
    "R.head()"
   ]
  },
  {
   "cell_type": "code",
   "execution_count": 9,
   "id": "51ef733d",
   "metadata": {},
   "outputs": [
    {
     "data": {
      "text/plain": [
       "0             0.002866\n",
       "1             0.000257\n",
       "2             0.002355\n",
       "3             0.006105\n",
       "4             0.003133\n",
       "              ...     \n",
       "1048570    2096.735442\n",
       "1048571    2039.850834\n",
       "1048572    1989.249199\n",
       "1048573    1928.984749\n",
       "1048574    1874.340648\n",
       "Name: motor_speed, Length: 1048575, dtype: float64"
      ]
     },
     "execution_count": 9,
     "metadata": {},
     "output_type": "execute_result"
    }
   ],
   "source": [
    "h"
   ]
  },
  {
   "cell_type": "code",
   "execution_count": 10,
   "id": "67ed2414",
   "metadata": {},
   "outputs": [],
   "source": [
    "from sklearn.model_selection import train_test_split\n",
    "\n",
    "R_train, R_test, h_train, h_test = train_test_split(R, h, test_size=0.15)"
   ]
  },
  {
   "cell_type": "code",
   "execution_count": 11,
   "id": "ac135993",
   "metadata": {},
   "outputs": [],
   "source": [
    "from sklearn.linear_model import LinearRegression"
   ]
  },
  {
   "cell_type": "code",
   "execution_count": 12,
   "id": "1f996aa6",
   "metadata": {},
   "outputs": [
    {
     "data": {
      "text/plain": [
       "LinearRegression()"
      ]
     },
     "execution_count": 12,
     "metadata": {},
     "output_type": "execute_result"
    }
   ],
   "source": [
    "lr = LinearRegression()\n",
    "lr.fit(R_train, h_train)"
   ]
  },
  {
   "cell_type": "code",
   "execution_count": 13,
   "id": "943d2eb4",
   "metadata": {},
   "outputs": [
    {
     "data": {
      "text/plain": [
       "array([ 2.75853093e+01,  2.90154795e+01, -2.30748420e+01, -3.23266388e+00,\n",
       "        1.01443536e+02, -3.02160770e+01,  2.35906781e+01,  7.57157671e+00,\n",
       "       -1.09679096e+02, -1.54517678e+01, -3.26359249e+01, -2.12772581e+00,\n",
       "       -9.02258080e+00, -7.27965937e+00,  5.50136554e-03,  5.98975414e-03])"
      ]
     },
     "execution_count": 13,
     "metadata": {},
     "output_type": "execute_result"
    }
   ],
   "source": [
    "lr.coef_"
   ]
  },
  {
   "cell_type": "code",
   "execution_count": 14,
   "id": "13960c82",
   "metadata": {},
   "outputs": [
    {
     "data": {
      "text/plain": [
       "171.6708465766003"
      ]
     },
     "execution_count": 14,
     "metadata": {},
     "output_type": "execute_result"
    }
   ],
   "source": [
    "lr.intercept_"
   ]
  },
  {
   "cell_type": "code",
   "execution_count": 15,
   "id": "96865a89",
   "metadata": {},
   "outputs": [],
   "source": [
    "h_train_predicted = lr.predict(R_train)\n",
    "h_test_predicted = lr.predict(R_test)"
   ]
  },
  {
   "cell_type": "code",
   "execution_count": 16,
   "id": "b886c7fa",
   "metadata": {},
   "outputs": [
    {
     "data": {
      "text/plain": [
       "array([ 250.01565552, 3789.04244806, 4999.94628906, ..., 4499.94921875,\n",
       "       3999.95556641, 3999.95654297])"
      ]
     },
     "execution_count": 16,
     "metadata": {},
     "output_type": "execute_result"
    }
   ],
   "source": [
    "np.array(h_test)"
   ]
  },
  {
   "cell_type": "code",
   "execution_count": 17,
   "id": "a72ce944",
   "metadata": {},
   "outputs": [
    {
     "data": {
      "text/plain": [
       "array([ 228.57648282, 3867.24777079, 5004.1063739 , ..., 4838.97833738,\n",
       "       4076.39591514, 4345.05747582])"
      ]
     },
     "execution_count": 17,
     "metadata": {},
     "output_type": "execute_result"
    }
   ],
   "source": [
    "np.array(h_test_predicted)"
   ]
  },
  {
   "cell_type": "code",
   "execution_count": 18,
   "id": "ffb02852",
   "metadata": {},
   "outputs": [],
   "source": [
    "from sklearn.metrics import mean_absolute_error, mean_squared_error"
   ]
  },
  {
   "cell_type": "code",
   "execution_count": 19,
   "id": "6939268c",
   "metadata": {},
   "outputs": [
    {
     "data": {
      "text/plain": [
       "(239.02410620931576, 238.7624468554438)"
      ]
     },
     "execution_count": 19,
     "metadata": {},
     "output_type": "execute_result"
    }
   ],
   "source": [
    "mean_absolute_error(h_train_predicted, h_train), mean_absolute_error(h_test_predicted, h_test)"
   ]
  },
  {
   "cell_type": "code",
   "execution_count": 20,
   "id": "7d9f50e4",
   "metadata": {},
   "outputs": [
    {
     "data": {
      "text/plain": [
       "(113297.40893820258, 112600.60782221555)"
      ]
     },
     "execution_count": 20,
     "metadata": {},
     "output_type": "execute_result"
    }
   ],
   "source": [
    "mean_squared_error(h_train_predicted, h_train), mean_squared_error(h_test_predicted, h_test)"
   ]
  },
  {
   "cell_type": "markdown",
   "id": "3082da33",
   "metadata": {},
   "source": [
    "#### Перекрестная проверка на 5 фолдах"
   ]
  },
  {
   "cell_type": "code",
   "execution_count": 21,
   "id": "64aad2f2",
   "metadata": {},
   "outputs": [],
   "source": [
    "h = np.ravel(h)"
   ]
  },
  {
   "cell_type": "code",
   "execution_count": 22,
   "id": "9fcd28c7",
   "metadata": {},
   "outputs": [],
   "source": [
    "model = LinearRegression()\n",
    "model = model.fit(R, h)"
   ]
  },
  {
   "cell_type": "code",
   "execution_count": 23,
   "id": "2c65ff61",
   "metadata": {},
   "outputs": [
    {
     "data": {
      "text/plain": [
       "0.9677708950604922"
      ]
     },
     "execution_count": 23,
     "metadata": {},
     "output_type": "execute_result"
    }
   ],
   "source": [
    "model.score(R, h)"
   ]
  },
  {
   "cell_type": "code",
   "execution_count": 24,
   "id": "0d8cfab9",
   "metadata": {},
   "outputs": [
    {
     "name": "stdout",
     "output_type": "stream",
     "text": [
      "[0.97345416 0.96630073 0.95744442 0.94189615 0.94733923]\n",
      "0.9572869362806962\n"
     ]
    }
   ],
   "source": [
    "scores = cross_val_score(LinearRegression(), R, h, cv = 5)\n",
    "print(scores)\n",
    "print(scores.mean())"
   ]
  },
  {
   "cell_type": "markdown",
   "id": "63e537da",
   "metadata": {},
   "source": [
    "#### Визуализация"
   ]
  },
  {
   "cell_type": "code",
   "execution_count": 25,
   "id": "6fc60a6d",
   "metadata": {},
   "outputs": [
    {
     "data": {
      "text/plain": [
       "<seaborn.axisgrid.PairGrid at 0x147eb2d59a0>"
      ]
     },
     "execution_count": 25,
     "metadata": {},
     "output_type": "execute_result"
    },
    {
     "data": {
      "image/png": "[encoded data removed]",
      "text/plain": [
       "<Figure size 720x720 with 20 Axes>"
      ]
     },
     "metadata": {
      "needs_background": "light"
     },
     "output_type": "display_data"
    }
   ],
   "source": [
    "cols_to_plot = ['n_i', 'n_u', 't_p', 'eff_p']\n",
    "sns.pairplot(data[cols_to_plot][:200000])"
   ]
  },
  {
   "cell_type": "markdown",
   "id": "bf24e8a6",
   "metadata": {},
   "source": [
    "#### knn модель"
   ]
  },
  {
   "cell_type": "code",
   "execution_count": 26,
   "id": "08c9019b",
   "metadata": {},
   "outputs": [],
   "source": [
    "from sklearn.model_selection import train_test_split\n",
    "R_train, R_test, h_train, h_test = train_test_split(R, h, test_size = 0.2, random_state = 0)"
   ]
  },
  {
   "cell_type": "code",
   "execution_count": 27,
   "id": "6e77ad84",
   "metadata": {},
   "outputs": [
    {
     "data": {
      "text/plain": [
       "((838860, 16), (209715, 16))"
      ]
     },
     "execution_count": 27,
     "metadata": {},
     "output_type": "execute_result"
    }
   ],
   "source": [
    "R_train.shape, R_test.shape"
   ]
  },
  {
   "cell_type": "code",
   "execution_count": 28,
   "id": "c106d9e8",
   "metadata": {},
   "outputs": [],
   "source": [
    "cols = R_train.columns"
   ]
  },
  {
   "cell_type": "code",
   "execution_count": 29,
   "id": "db062c5d",
   "metadata": {},
   "outputs": [],
   "source": [
    "from sklearn.preprocessing import StandardScaler\n",
    "scaler = StandardScaler()\n",
    "R_train = scaler.fit_transform(R_train)\n",
    "R_test = scaler.transform(R_test)"
   ]
  },
  {
   "cell_type": "code",
   "execution_count": 30,
   "id": "664cef63",
   "metadata": {},
   "outputs": [],
   "source": [
    "R_train = pd.DataFrame(R_train, columns=[cols])"
   ]
  },
  {
   "cell_type": "code",
   "execution_count": 31,
   "id": "26ada19a",
   "metadata": {},
   "outputs": [],
   "source": [
    "R_test = pd.DataFrame(R_test, columns=[cols])"
   ]
  },
  {
   "cell_type": "code",
   "execution_count": 32,
   "id": "1967cd8c",
   "metadata": {},
   "outputs": [
    {
     "data": {
      "text/html": [
       "<div>\n",
       "<style scoped>\n",
       "    .dataframe tbody tr th:only-of-type {\n",
       "        vertical-align: middle;\n",
       "    }\n",
       "\n",
       "    .dataframe tbody tr th {\n",
       "        vertical-align: top;\n",
       "    }\n",
       "\n",
       "    .dataframe thead tr th {\n",
       "        text-align: left;\n",
       "    }\n",
       "</style>\n",
       "<table border=\"1\" class=\"dataframe\">\n",
       "  <thead>\n",
       "    <tr>\n",
       "      <th></th>\n",
       "      <th>u_q</th>\n",
       "      <th>coolant</th>\n",
       "      <th>stator_winding</th>\n",
       "      <th>u_d</th>\n",
       "      <th>stator_tooth</th>\n",
       "      <th>i_d</th>\n",
       "      <th>i_q</th>\n",
       "      <th>pm</th>\n",
       "      <th>stator_yoke</th>\n",
       "      <th>ambient</th>\n",
       "      <th>torque</th>\n",
       "      <th>profile_id</th>\n",
       "      <th>n_i</th>\n",
       "      <th>n_u</th>\n",
       "      <th>t_p</th>\n",
       "      <th>eff_p</th>\n",
       "    </tr>\n",
       "  </thead>\n",
       "  <tbody>\n",
       "    <tr>\n",
       "      <th>0</th>\n",
       "      <td>-0.514270</td>\n",
       "      <td>-0.649985</td>\n",
       "      <td>-0.184687</td>\n",
       "      <td>-0.189046</td>\n",
       "      <td>-0.395674</td>\n",
       "      <td>0.074673</td>\n",
       "      <td>1.415477</td>\n",
       "      <td>-0.561968</td>\n",
       "      <td>-0.500365</td>\n",
       "      <td>0.304462</td>\n",
       "      <td>1.341012</td>\n",
       "      <td>-0.778171</td>\n",
       "      <td>0.860868</td>\n",
       "      <td>-0.573628</td>\n",
       "      <td>-0.152207</td>\n",
       "      <td>0.177543</td>\n",
       "    </tr>\n",
       "    <tr>\n",
       "      <th>1</th>\n",
       "      <td>-1.132618</td>\n",
       "      <td>-0.694867</td>\n",
       "      <td>-1.511536</td>\n",
       "      <td>0.489891</td>\n",
       "      <td>-1.535377</td>\n",
       "      <td>1.034999</td>\n",
       "      <td>-0.461489</td>\n",
       "      <td>-1.648808</td>\n",
       "      <td>-1.368020</td>\n",
       "      <td>-1.041430</td>\n",
       "      <td>-0.470422</td>\n",
       "      <td>-1.297005</td>\n",
       "      <td>-1.262718</td>\n",
       "      <td>-1.459542</td>\n",
       "      <td>-1.054883</td>\n",
       "      <td>-0.477432</td>\n",
       "    </tr>\n",
       "    <tr>\n",
       "      <th>2</th>\n",
       "      <td>1.045321</td>\n",
       "      <td>1.426654</td>\n",
       "      <td>0.923593</td>\n",
       "      <td>1.816556</td>\n",
       "      <td>1.152606</td>\n",
       "      <td>-0.822121</td>\n",
       "      <td>-1.062332</td>\n",
       "      <td>0.562893</td>\n",
       "      <td>1.348498</td>\n",
       "      <td>-0.486159</td>\n",
       "      <td>-1.124533</td>\n",
       "      <td>1.057702</td>\n",
       "      <td>0.299428</td>\n",
       "      <td>0.909491</td>\n",
       "      <td>0.631988</td>\n",
       "      <td>-1.767997</td>\n",
       "    </tr>\n",
       "    <tr>\n",
       "      <th>3</th>\n",
       "      <td>1.587104</td>\n",
       "      <td>-0.641885</td>\n",
       "      <td>-0.339662</td>\n",
       "      <td>-0.008859</td>\n",
       "      <td>-0.185958</td>\n",
       "      <td>0.992699</td>\n",
       "      <td>-0.146451</td>\n",
       "      <td>0.886206</td>\n",
       "      <td>-0.296899</td>\n",
       "      <td>-1.704260</td>\n",
       "      <td>-0.213792</td>\n",
       "      <td>-0.139606</td>\n",
       "      <td>-0.936938</td>\n",
       "      <td>0.836031</td>\n",
       "      <td>-0.692796</td>\n",
       "      <td>-0.168675</td>\n",
       "    </tr>\n",
       "    <tr>\n",
       "      <th>4</th>\n",
       "      <td>-1.027602</td>\n",
       "      <td>-0.673023</td>\n",
       "      <td>1.265955</td>\n",
       "      <td>0.309091</td>\n",
       "      <td>0.721160</td>\n",
       "      <td>-0.780799</td>\n",
       "      <td>2.173511</td>\n",
       "      <td>-1.077361</td>\n",
       "      <td>0.313059</td>\n",
       "      <td>-0.949703</td>\n",
       "      <td>2.222016</td>\n",
       "      <td>-1.336915</td>\n",
       "      <td>1.867381</td>\n",
       "      <td>-1.295088</td>\n",
       "      <td>-0.715233</td>\n",
       "      <td>-0.206567</td>\n",
       "    </tr>\n",
       "  </tbody>\n",
       "</table>\n",
       "</div>"
      ],
      "text/plain": [
       "        u_q   coolant stator_winding       u_d stator_tooth       i_d  \\\n",
       "0 -0.514270 -0.649985      -0.184687 -0.189046    -0.395674  0.074673   \n",
       "1 -1.132618 -0.694867      -1.511536  0.489891    -1.535377  1.034999   \n",
       "2  1.045321  1.426654       0.923593  1.816556     1.152606 -0.822121   \n",
       "3  1.587104 -0.641885      -0.339662 -0.008859    -0.185958  0.992699   \n",
       "4 -1.027602 -0.673023       1.265955  0.309091     0.721160 -0.780799   \n",
       "\n",
       "        i_q        pm stator_yoke   ambient    torque profile_id       n_i  \\\n",
       "0  1.415477 -0.561968   -0.500365  0.304462  1.341012  -0.778171  0.860868   \n",
       "1 -0.461489 -1.648808   -1.368020 -1.041430 -0.470422  -1.297005 -1.262718   \n",
       "2 -1.062332  0.562893    1.348498 -0.486159 -1.124533   1.057702  0.299428   \n",
       "3 -0.146451  0.886206   -0.296899 -1.704260 -0.213792  -0.139606 -0.936938   \n",
       "4  2.173511 -1.077361    0.313059 -0.949703  2.222016  -1.336915  1.867381   \n",
       "\n",
       "        n_u       t_p     eff_p  \n",
       "0 -0.573628 -0.152207  0.177543  \n",
       "1 -1.459542 -1.054883 -0.477432  \n",
       "2  0.909491  0.631988 -1.767997  \n",
       "3  0.836031 -0.692796 -0.168675  \n",
       "4 -1.295088 -0.715233 -0.206567  "
      ]
     },
     "execution_count": 32,
     "metadata": {},
     "output_type": "execute_result"
    }
   ],
   "source": [
    "R_train.head()"
   ]
  },
  {
   "cell_type": "code",
   "execution_count": 33,
   "id": "2b508cc2",
   "metadata": {},
   "outputs": [
    {
     "data": {
      "text/plain": [
       "KNeighborsRegressor(n_neighbors=3)"
      ]
     },
     "execution_count": 33,
     "metadata": {},
     "output_type": "execute_result"
    }
   ],
   "source": [
    "from sklearn.neighbors import KNeighborsRegressor\n",
    "knn = KNeighborsRegressor(n_neighbors=3)\n",
    "knn.fit(R_train, h_train)"
   ]
  },
  {
   "cell_type": "code",
   "execution_count": null,
   "id": "72e7024f",
   "metadata": {},
   "outputs": [],
   "source": [
    "h_train_predicted_knn = knn.predict(R_train)\n",
    "h_test_predicted_knn = knn.predict(R_test)"
   ]
  },
  {
   "cell_type": "code",
   "execution_count": 34,
   "id": "d6c1c221",
   "metadata": {},
   "outputs": [],
   "source": [
    "h_train_predicted_lr = lr.predict(R_train)\n",
    "h_test_predicted_lr = lr.predict(R_test)"
   ]
  },
  {
   "cell_type": "code",
   "execution_count": 35,
   "id": "03b41c04",
   "metadata": {},
   "outputs": [
    {
     "data": {
      "text/plain": [
       "(7.5364959686593895, 736.031356848045)"
      ]
     },
     "execution_count": 35,
     "metadata": {},
     "output_type": "execute_result"
    }
   ],
   "source": [
    "mean_absolute_error(h_train_predicted_knn, h_train), mean_squared_error(h_train_predicted_knn, h_train)"
   ]
  },
  {
   "cell_type": "code",
   "execution_count": 36,
   "id": "b195d3e3",
   "metadata": {},
   "outputs": [
    {
     "data": {
      "text/plain": [
       "(12.593803619484476, 1852.5353745694483)"
      ]
     },
     "execution_count": 36,
     "metadata": {},
     "output_type": "execute_result"
    }
   ],
   "source": [
    "mean_absolute_error(h_test_predicted_knn, h_test), mean_squared_error(h_test_predicted_knn, h_test)"
   ]
  },
  {
   "cell_type": "code",
   "execution_count": 37,
   "id": "5843ab7a",
   "metadata": {},
   "outputs": [
    {
     "data": {
      "text/plain": [
       "(2072.07985393207, 7538129.503808575)"
      ]
     },
     "execution_count": 37,
     "metadata": {},
     "output_type": "execute_result"
    }
   ],
   "source": [
    "mean_absolute_error(h_train_predicted_lr, h_train), mean_squared_error(h_train_predicted_lr, h_train)"
   ]
  },
  {
   "cell_type": "code",
   "execution_count": 38,
   "id": "47a5e554",
   "metadata": {},
   "outputs": [
    {
     "data": {
      "text/plain": [
       "(2068.459641923224, 7531241.360909181)"
      ]
     },
     "execution_count": 38,
     "metadata": {},
     "output_type": "execute_result"
    }
   ],
   "source": [
    "mean_absolute_error(h_test_predicted_lr, h_test), mean_squared_error(h_test_predicted_lr, h_test)"
   ]
  },
  {
   "cell_type": "markdown",
   "id": "e30d0381",
   "metadata": {},
   "source": [
    "##### Проверка на переобучение и недообучение"
   ]
  },
  {
   "cell_type": "code",
   "execution_count": null,
   "id": "b00e5dd5",
   "metadata": {},
   "outputs": [],
   "source": [
    "print('Training set score: {:0.4f}'.format(knn.score(R_train, h_train)))\n",
    "print ('Test set score: {:0.4f}'.format(knn.score(R_test, h_test)))"
   ]
  },
  {
   "cell_type": "code",
   "execution_count": null,
   "id": "2f9dd5eb",
   "metadata": {},
   "outputs": [],
   "source": [
    "print('Training set score: {:0.4f}'.format(lr.score(R_train, h_train)))\n",
    "print ('Test set score: {:0.4f}'.format(lr.score(R_test, h_test)))"
   ]
  },
  {
   "cell_type": "markdown",
   "id": "68775ed2",
   "metadata": {},
   "source": [
    "#### Перекрестная проверка на 5 фолдах"
   ]
  },
  {
   "cell_type": "code",
   "execution_count": null,
   "id": "6d616a37",
   "metadata": {},
   "outputs": [],
   "source": [
    "h = np.ravel(h)"
   ]
  },
  {
   "cell_type": "code",
   "execution_count": null,
   "id": "9c0401ec",
   "metadata": {},
   "outputs": [],
   "source": [
    "model = KNeighborsRegressor()\n",
    "model = model.fit(R, h)"
   ]
  },
  {
   "cell_type": "code",
   "execution_count": null,
   "id": "1829bb28",
   "metadata": {},
   "outputs": [],
   "source": [
    "model.score(R, h)"
   ]
  },
  {
   "cell_type": "code",
   "execution_count": null,
   "id": "8f0721b0",
   "metadata": {},
   "outputs": [],
   "source": [
    "scores = cross_val_score(KNeighborsRegressor(), R, h, cv = 5)\n",
    "print(scores)\n",
    "print(scores.mean())"
   ]
  }
 ],
 "metadata": {
  "kernelspec": {
   "display_name": "Python 3 (ipykernel)",
   "language": "python",
   "name": "python3"
  },
  "language_info": {
   "codemirror_mode": {
    "name": "ipython",
    "version": 3
   },
   "file_extension": ".py",
   "mimetype": "text/x-python",
   "name": "python",
   "nbconvert_exporter": "python",
   "pygments_lexer": "ipython3",
   "version": "3.9.12"
  }
 },
 "nbformat": 4,
 "nbformat_minor": 5
}
